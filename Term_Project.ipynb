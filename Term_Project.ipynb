{
 "cells": [
  {
   "cell_type": "markdown",
   "id": "397911f5-3712-4143-b1d8-e8a5d539de6c",
   "metadata": {},
   "source": [
    "# Rajakanthan530Week12 Term Project"
   ]
  },
  {
   "cell_type": "markdown",
   "id": "ed4896b8-4ac0-47b0-b2b0-dc18bf00ce15",
   "metadata": {},
   "source": [
    "### Diabetes"
   ]
  },
  {
   "cell_type": "code",
   "execution_count": 159,
   "id": "25c6aefe-a65d-4d1b-8df8-f92ed91b72ed",
   "metadata": {},
   "outputs": [],
   "source": [
    "import pandas as pd"
   ]
  },
  {
   "cell_type": "code",
   "execution_count": 161,
   "id": "0641a9be-7e46-40ef-91f3-574c54e47096",
   "metadata": {},
   "outputs": [],
   "source": [
    "diabetes_fullData_Df = pd.read_csv(\"C:/Users/abhin/OneDrive/Documents/Data_Science/DSC530/Term Project/diabetes_dataset00.csv\")"
   ]
  },
  {
   "cell_type": "code",
   "execution_count": 162,
   "id": "aa00e318-b4de-484b-b3a5-3a5ada178dd0",
   "metadata": {
    "scrolled": true
   },
   "outputs": [
    {
     "data": {
      "text/html": [
       "<div>\n",
       "<style scoped>\n",
       "    .dataframe tbody tr th:only-of-type {\n",
       "        vertical-align: middle;\n",
       "    }\n",
       "\n",
       "    .dataframe tbody tr th {\n",
       "        vertical-align: top;\n",
       "    }\n",
       "\n",
       "    .dataframe thead th {\n",
       "        text-align: right;\n",
       "    }\n",
       "</style>\n",
       "<table border=\"1\" class=\"dataframe\">\n",
       "  <thead>\n",
       "    <tr style=\"text-align: right;\">\n",
       "      <th></th>\n",
       "      <th>Target</th>\n",
       "      <th>Genetic Markers</th>\n",
       "      <th>Autoantibodies</th>\n",
       "      <th>Family History</th>\n",
       "      <th>Environmental Factors</th>\n",
       "      <th>Insulin Levels</th>\n",
       "      <th>Age</th>\n",
       "      <th>BMI</th>\n",
       "      <th>Physical Activity</th>\n",
       "      <th>Dietary Habits</th>\n",
       "      <th>...</th>\n",
       "      <th>Pulmonary Function</th>\n",
       "      <th>Cystic Fibrosis Diagnosis</th>\n",
       "      <th>Steroid Use History</th>\n",
       "      <th>Genetic Testing</th>\n",
       "      <th>Neurological Assessments</th>\n",
       "      <th>Liver Function Tests</th>\n",
       "      <th>Digestive Enzyme Levels</th>\n",
       "      <th>Urine Test</th>\n",
       "      <th>Birth Weight</th>\n",
       "      <th>Early Onset Symptoms</th>\n",
       "    </tr>\n",
       "  </thead>\n",
       "  <tbody>\n",
       "    <tr>\n",
       "      <th>0</th>\n",
       "      <td>Steroid-Induced Diabetes</td>\n",
       "      <td>Positive</td>\n",
       "      <td>Negative</td>\n",
       "      <td>No</td>\n",
       "      <td>Present</td>\n",
       "      <td>40</td>\n",
       "      <td>44</td>\n",
       "      <td>38</td>\n",
       "      <td>High</td>\n",
       "      <td>Healthy</td>\n",
       "      <td>...</td>\n",
       "      <td>76</td>\n",
       "      <td>No</td>\n",
       "      <td>No</td>\n",
       "      <td>Positive</td>\n",
       "      <td>3</td>\n",
       "      <td>Normal</td>\n",
       "      <td>56</td>\n",
       "      <td>Ketones Present</td>\n",
       "      <td>2629</td>\n",
       "      <td>No</td>\n",
       "    </tr>\n",
       "    <tr>\n",
       "      <th>1</th>\n",
       "      <td>Neonatal Diabetes Mellitus (NDM)</td>\n",
       "      <td>Positive</td>\n",
       "      <td>Negative</td>\n",
       "      <td>No</td>\n",
       "      <td>Present</td>\n",
       "      <td>13</td>\n",
       "      <td>1</td>\n",
       "      <td>17</td>\n",
       "      <td>High</td>\n",
       "      <td>Healthy</td>\n",
       "      <td>...</td>\n",
       "      <td>60</td>\n",
       "      <td>Yes</td>\n",
       "      <td>No</td>\n",
       "      <td>Negative</td>\n",
       "      <td>1</td>\n",
       "      <td>Normal</td>\n",
       "      <td>28</td>\n",
       "      <td>Glucose Present</td>\n",
       "      <td>1881</td>\n",
       "      <td>Yes</td>\n",
       "    </tr>\n",
       "    <tr>\n",
       "      <th>2</th>\n",
       "      <td>Prediabetic</td>\n",
       "      <td>Positive</td>\n",
       "      <td>Positive</td>\n",
       "      <td>Yes</td>\n",
       "      <td>Present</td>\n",
       "      <td>27</td>\n",
       "      <td>36</td>\n",
       "      <td>24</td>\n",
       "      <td>High</td>\n",
       "      <td>Unhealthy</td>\n",
       "      <td>...</td>\n",
       "      <td>80</td>\n",
       "      <td>Yes</td>\n",
       "      <td>No</td>\n",
       "      <td>Negative</td>\n",
       "      <td>1</td>\n",
       "      <td>Abnormal</td>\n",
       "      <td>55</td>\n",
       "      <td>Ketones Present</td>\n",
       "      <td>3622</td>\n",
       "      <td>Yes</td>\n",
       "    </tr>\n",
       "    <tr>\n",
       "      <th>3</th>\n",
       "      <td>Type 1 Diabetes</td>\n",
       "      <td>Negative</td>\n",
       "      <td>Positive</td>\n",
       "      <td>No</td>\n",
       "      <td>Present</td>\n",
       "      <td>8</td>\n",
       "      <td>7</td>\n",
       "      <td>16</td>\n",
       "      <td>Low</td>\n",
       "      <td>Unhealthy</td>\n",
       "      <td>...</td>\n",
       "      <td>89</td>\n",
       "      <td>Yes</td>\n",
       "      <td>No</td>\n",
       "      <td>Positive</td>\n",
       "      <td>2</td>\n",
       "      <td>Abnormal</td>\n",
       "      <td>60</td>\n",
       "      <td>Ketones Present</td>\n",
       "      <td>3542</td>\n",
       "      <td>No</td>\n",
       "    </tr>\n",
       "    <tr>\n",
       "      <th>4</th>\n",
       "      <td>Wolfram Syndrome</td>\n",
       "      <td>Negative</td>\n",
       "      <td>Negative</td>\n",
       "      <td>Yes</td>\n",
       "      <td>Present</td>\n",
       "      <td>17</td>\n",
       "      <td>10</td>\n",
       "      <td>17</td>\n",
       "      <td>High</td>\n",
       "      <td>Healthy</td>\n",
       "      <td>...</td>\n",
       "      <td>41</td>\n",
       "      <td>No</td>\n",
       "      <td>No</td>\n",
       "      <td>Positive</td>\n",
       "      <td>1</td>\n",
       "      <td>Normal</td>\n",
       "      <td>24</td>\n",
       "      <td>Protein Present</td>\n",
       "      <td>1770</td>\n",
       "      <td>No</td>\n",
       "    </tr>\n",
       "  </tbody>\n",
       "</table>\n",
       "<p>5 rows × 34 columns</p>\n",
       "</div>"
      ],
      "text/plain": [
       "                             Target Genetic Markers Autoantibodies  \\\n",
       "0          Steroid-Induced Diabetes        Positive       Negative   \n",
       "1  Neonatal Diabetes Mellitus (NDM)        Positive       Negative   \n",
       "2                       Prediabetic        Positive       Positive   \n",
       "3                   Type 1 Diabetes        Negative       Positive   \n",
       "4                  Wolfram Syndrome        Negative       Negative   \n",
       "\n",
       "  Family History Environmental Factors  Insulin Levels  Age  BMI  \\\n",
       "0             No               Present              40   44   38   \n",
       "1             No               Present              13    1   17   \n",
       "2            Yes               Present              27   36   24   \n",
       "3             No               Present               8    7   16   \n",
       "4            Yes               Present              17   10   17   \n",
       "\n",
       "  Physical Activity Dietary Habits  ...  Pulmonary Function  \\\n",
       "0              High        Healthy  ...                  76   \n",
       "1              High        Healthy  ...                  60   \n",
       "2              High      Unhealthy  ...                  80   \n",
       "3               Low      Unhealthy  ...                  89   \n",
       "4              High        Healthy  ...                  41   \n",
       "\n",
       "   Cystic Fibrosis Diagnosis  Steroid Use History  Genetic Testing  \\\n",
       "0                         No                   No         Positive   \n",
       "1                        Yes                   No         Negative   \n",
       "2                        Yes                   No         Negative   \n",
       "3                        Yes                   No         Positive   \n",
       "4                         No                   No         Positive   \n",
       "\n",
       "  Neurological Assessments Liver Function Tests Digestive Enzyme Levels  \\\n",
       "0                        3               Normal                      56   \n",
       "1                        1               Normal                      28   \n",
       "2                        1             Abnormal                      55   \n",
       "3                        2             Abnormal                      60   \n",
       "4                        1               Normal                      24   \n",
       "\n",
       "        Urine Test Birth Weight Early Onset Symptoms  \n",
       "0  Ketones Present         2629                   No  \n",
       "1  Glucose Present         1881                  Yes  \n",
       "2  Ketones Present         3622                  Yes  \n",
       "3  Ketones Present         3542                   No  \n",
       "4  Protein Present         1770                   No  \n",
       "\n",
       "[5 rows x 34 columns]"
      ]
     },
     "execution_count": 162,
     "metadata": {},
     "output_type": "execute_result"
    }
   ],
   "source": [
    "diabetes_fullData_Df.head()"
   ]
  },
  {
   "cell_type": "code",
   "execution_count": 165,
   "id": "cc51038e-9b9b-4651-aa8f-bcc0102a6450",
   "metadata": {},
   "outputs": [
    {
     "data": {
      "text/html": [
       "<div>\n",
       "<style scoped>\n",
       "    .dataframe tbody tr th:only-of-type {\n",
       "        vertical-align: middle;\n",
       "    }\n",
       "\n",
       "    .dataframe tbody tr th {\n",
       "        vertical-align: top;\n",
       "    }\n",
       "\n",
       "    .dataframe thead th {\n",
       "        text-align: right;\n",
       "    }\n",
       "</style>\n",
       "<table border=\"1\" class=\"dataframe\">\n",
       "  <thead>\n",
       "    <tr style=\"text-align: right;\">\n",
       "      <th></th>\n",
       "      <th>Target</th>\n",
       "      <th>Genetic Markers</th>\n",
       "      <th>Autoantibodies</th>\n",
       "      <th>Family History</th>\n",
       "      <th>Environmental Factors</th>\n",
       "      <th>Insulin Levels</th>\n",
       "      <th>Age</th>\n",
       "      <th>BMI</th>\n",
       "      <th>Physical Activity</th>\n",
       "      <th>Dietary Habits</th>\n",
       "      <th>...</th>\n",
       "      <th>Pulmonary Function</th>\n",
       "      <th>Cystic Fibrosis Diagnosis</th>\n",
       "      <th>Steroid Use History</th>\n",
       "      <th>Genetic Testing</th>\n",
       "      <th>Neurological Assessments</th>\n",
       "      <th>Liver Function Tests</th>\n",
       "      <th>Digestive Enzyme Levels</th>\n",
       "      <th>Urine Test</th>\n",
       "      <th>Birth Weight</th>\n",
       "      <th>Early Onset Symptoms</th>\n",
       "    </tr>\n",
       "  </thead>\n",
       "  <tbody>\n",
       "    <tr>\n",
       "      <th>6</th>\n",
       "      <td>Type 2 Diabetes</td>\n",
       "      <td>Negative</td>\n",
       "      <td>Negative</td>\n",
       "      <td>No</td>\n",
       "      <td>Absent</td>\n",
       "      <td>29</td>\n",
       "      <td>30</td>\n",
       "      <td>31</td>\n",
       "      <td>Moderate</td>\n",
       "      <td>Healthy</td>\n",
       "      <td>...</td>\n",
       "      <td>64</td>\n",
       "      <td>Yes</td>\n",
       "      <td>Yes</td>\n",
       "      <td>Negative</td>\n",
       "      <td>3</td>\n",
       "      <td>Abnormal</td>\n",
       "      <td>96</td>\n",
       "      <td>Ketones Present</td>\n",
       "      <td>4426</td>\n",
       "      <td>No</td>\n",
       "    </tr>\n",
       "    <tr>\n",
       "      <th>28</th>\n",
       "      <td>Type 2 Diabetes</td>\n",
       "      <td>Positive</td>\n",
       "      <td>Negative</td>\n",
       "      <td>No</td>\n",
       "      <td>Present</td>\n",
       "      <td>15</td>\n",
       "      <td>51</td>\n",
       "      <td>39</td>\n",
       "      <td>Moderate</td>\n",
       "      <td>Healthy</td>\n",
       "      <td>...</td>\n",
       "      <td>69</td>\n",
       "      <td>Yes</td>\n",
       "      <td>Yes</td>\n",
       "      <td>Negative</td>\n",
       "      <td>3</td>\n",
       "      <td>Normal</td>\n",
       "      <td>49</td>\n",
       "      <td>Protein Present</td>\n",
       "      <td>2587</td>\n",
       "      <td>Yes</td>\n",
       "    </tr>\n",
       "    <tr>\n",
       "      <th>32</th>\n",
       "      <td>Type 2 Diabetes</td>\n",
       "      <td>Positive</td>\n",
       "      <td>Positive</td>\n",
       "      <td>No</td>\n",
       "      <td>Present</td>\n",
       "      <td>20</td>\n",
       "      <td>56</td>\n",
       "      <td>31</td>\n",
       "      <td>Moderate</td>\n",
       "      <td>Healthy</td>\n",
       "      <td>...</td>\n",
       "      <td>71</td>\n",
       "      <td>No</td>\n",
       "      <td>No</td>\n",
       "      <td>Negative</td>\n",
       "      <td>3</td>\n",
       "      <td>Abnormal</td>\n",
       "      <td>49</td>\n",
       "      <td>Glucose Present</td>\n",
       "      <td>3079</td>\n",
       "      <td>Yes</td>\n",
       "    </tr>\n",
       "    <tr>\n",
       "      <th>38</th>\n",
       "      <td>Type 2 Diabetes</td>\n",
       "      <td>Positive</td>\n",
       "      <td>Positive</td>\n",
       "      <td>Yes</td>\n",
       "      <td>Absent</td>\n",
       "      <td>44</td>\n",
       "      <td>70</td>\n",
       "      <td>34</td>\n",
       "      <td>Low</td>\n",
       "      <td>Unhealthy</td>\n",
       "      <td>...</td>\n",
       "      <td>73</td>\n",
       "      <td>No</td>\n",
       "      <td>No</td>\n",
       "      <td>Positive</td>\n",
       "      <td>3</td>\n",
       "      <td>Normal</td>\n",
       "      <td>83</td>\n",
       "      <td>Protein Present</td>\n",
       "      <td>2633</td>\n",
       "      <td>No</td>\n",
       "    </tr>\n",
       "    <tr>\n",
       "      <th>41</th>\n",
       "      <td>Type 2 Diabetes</td>\n",
       "      <td>Negative</td>\n",
       "      <td>Negative</td>\n",
       "      <td>No</td>\n",
       "      <td>Absent</td>\n",
       "      <td>11</td>\n",
       "      <td>62</td>\n",
       "      <td>28</td>\n",
       "      <td>Moderate</td>\n",
       "      <td>Healthy</td>\n",
       "      <td>...</td>\n",
       "      <td>63</td>\n",
       "      <td>Yes</td>\n",
       "      <td>No</td>\n",
       "      <td>Positive</td>\n",
       "      <td>2</td>\n",
       "      <td>Normal</td>\n",
       "      <td>71</td>\n",
       "      <td>Protein Present</td>\n",
       "      <td>3521</td>\n",
       "      <td>Yes</td>\n",
       "    </tr>\n",
       "  </tbody>\n",
       "</table>\n",
       "<p>5 rows × 34 columns</p>\n",
       "</div>"
      ],
      "text/plain": [
       "             Target Genetic Markers Autoantibodies Family History  \\\n",
       "6   Type 2 Diabetes        Negative       Negative             No   \n",
       "28  Type 2 Diabetes        Positive       Negative             No   \n",
       "32  Type 2 Diabetes        Positive       Positive             No   \n",
       "38  Type 2 Diabetes        Positive       Positive            Yes   \n",
       "41  Type 2 Diabetes        Negative       Negative             No   \n",
       "\n",
       "   Environmental Factors  Insulin Levels  Age  BMI Physical Activity  \\\n",
       "6                 Absent              29   30   31          Moderate   \n",
       "28               Present              15   51   39          Moderate   \n",
       "32               Present              20   56   31          Moderate   \n",
       "38                Absent              44   70   34               Low   \n",
       "41                Absent              11   62   28          Moderate   \n",
       "\n",
       "   Dietary Habits  ...  Pulmonary Function  Cystic Fibrosis Diagnosis  \\\n",
       "6         Healthy  ...                  64                        Yes   \n",
       "28        Healthy  ...                  69                        Yes   \n",
       "32        Healthy  ...                  71                         No   \n",
       "38      Unhealthy  ...                  73                         No   \n",
       "41        Healthy  ...                  63                        Yes   \n",
       "\n",
       "    Steroid Use History  Genetic Testing Neurological Assessments  \\\n",
       "6                   Yes         Negative                        3   \n",
       "28                  Yes         Negative                        3   \n",
       "32                   No         Negative                        3   \n",
       "38                   No         Positive                        3   \n",
       "41                   No         Positive                        2   \n",
       "\n",
       "   Liver Function Tests Digestive Enzyme Levels       Urine Test Birth Weight  \\\n",
       "6              Abnormal                      96  Ketones Present         4426   \n",
       "28               Normal                      49  Protein Present         2587   \n",
       "32             Abnormal                      49  Glucose Present         3079   \n",
       "38               Normal                      83  Protein Present         2633   \n",
       "41               Normal                      71  Protein Present         3521   \n",
       "\n",
       "   Early Onset Symptoms  \n",
       "6                    No  \n",
       "28                  Yes  \n",
       "32                  Yes  \n",
       "38                   No  \n",
       "41                  Yes  \n",
       "\n",
       "[5 rows x 34 columns]"
      ]
     },
     "execution_count": 165,
     "metadata": {},
     "output_type": "execute_result"
    }
   ],
   "source": [
    "type2diabetesDf = diabetes_fullData_Df[diabetes_fullData_Df['Target']=='Type 2 Diabetes']\n",
    "type2diabetesDf.head()"
   ]
  },
  {
   "cell_type": "code",
   "execution_count": 167,
   "id": "6fc42e12-2de1-4b4b-b0c7-8726192ceae7",
   "metadata": {},
   "outputs": [
    {
     "name": "stdout",
     "output_type": "stream",
     "text": [
      "<class 'pandas.core.frame.DataFrame'>\n",
      "Index: 5397 entries, 6 to 69972\n",
      "Data columns (total 34 columns):\n",
      " #   Column                         Non-Null Count  Dtype \n",
      "---  ------                         --------------  ----- \n",
      " 0   Target                         5397 non-null   object\n",
      " 1   Genetic Markers                5397 non-null   object\n",
      " 2   Autoantibodies                 5397 non-null   object\n",
      " 3   Family History                 5397 non-null   object\n",
      " 4   Environmental Factors          5397 non-null   object\n",
      " 5   Insulin Levels                 5397 non-null   int64 \n",
      " 6   Age                            5397 non-null   int64 \n",
      " 7   BMI                            5397 non-null   int64 \n",
      " 8   Physical Activity              5397 non-null   object\n",
      " 9   Dietary Habits                 5397 non-null   object\n",
      " 10  Blood Pressure                 5397 non-null   int64 \n",
      " 11  Cholesterol Levels             5397 non-null   int64 \n",
      " 12  Waist Circumference            5397 non-null   int64 \n",
      " 13  Blood Glucose Levels           5397 non-null   int64 \n",
      " 14  Ethnicity                      5397 non-null   object\n",
      " 15  Socioeconomic Factors          5397 non-null   object\n",
      " 16  Smoking Status                 5397 non-null   object\n",
      " 17  Alcohol Consumption            5397 non-null   object\n",
      " 18  Glucose Tolerance Test         5397 non-null   object\n",
      " 19  History of PCOS                5397 non-null   object\n",
      " 20  Previous Gestational Diabetes  5397 non-null   object\n",
      " 21  Pregnancy History              5397 non-null   object\n",
      " 22  Weight Gain During Pregnancy   5397 non-null   int64 \n",
      " 23  Pancreatic Health              5397 non-null   int64 \n",
      " 24  Pulmonary Function             5397 non-null   int64 \n",
      " 25  Cystic Fibrosis Diagnosis      5397 non-null   object\n",
      " 26  Steroid Use History            5397 non-null   object\n",
      " 27  Genetic Testing                5397 non-null   object\n",
      " 28  Neurological Assessments       5397 non-null   int64 \n",
      " 29  Liver Function Tests           5397 non-null   object\n",
      " 30  Digestive Enzyme Levels        5397 non-null   int64 \n",
      " 31  Urine Test                     5397 non-null   object\n",
      " 32  Birth Weight                   5397 non-null   int64 \n",
      " 33  Early Onset Symptoms           5397 non-null   object\n",
      "dtypes: int64(13), object(21)\n",
      "memory usage: 1.4+ MB\n"
     ]
    }
   ],
   "source": [
    "type2diabetesDf.info()"
   ]
  },
  {
   "cell_type": "markdown",
   "id": "57b938d0-3855-4da0-91e3-629b47de5be8",
   "metadata": {},
   "source": [
    "##### A minimum of 5 variables in your dataset used during your analysis (for help with selecting, the author made his selection on page 6 of your book). \n",
    "##### Consider what you think could have an impact on your question – remember this is never perfect, so don’t be worried if you miss one (Chapter 1)."
   ]
  },
  {
   "cell_type": "markdown",
   "id": "8b67f347-9d5f-413b-b571-7c2775ddd8b1",
   "metadata": {},
   "source": [
    "Family History\n",
    "Blood Glucose Levels\n",
    "Age\n",
    "BMI\n",
    "Waist Circumference"
   ]
  },
  {
   "cell_type": "markdown",
   "id": "c0cf27d9-f8a3-4208-be38-298c5b0b2048",
   "metadata": {},
   "source": [
    "##### Describe what the 5 variables mean in the dataset (Chapter 1)."
   ]
  },
  {
   "cell_type": "markdown",
   "id": "56a40902-9b43-486f-b1d0-9204b8079bce",
   "metadata": {},
   "source": [
    "Family History - Yes=Someone in family is/was Diabetic, No=No one in family is/was Diabetic\n",
    "\n",
    "Blood Glucose Levels - Blood Sugar level\n",
    "\n",
    "Age - Age of the participant \n",
    "\n",
    "BMI - Body mass index of the participant \n",
    "\n",
    "Waist Circumference - Waist circumference is a better estimate of 'visceral fat'. This is the dangerous internal fat that coats your organs. \n",
    "                      Measuring visceral fat can give a more accurate predictor of some health conditions."
   ]
  },
  {
   "cell_type": "markdown",
   "id": "488799d1-6e11-459b-b4cf-61cd48028b6c",
   "metadata": {},
   "source": [
    "##### Include a histogram of each of the 5 variables - in your summary and analysis, identify any outliers and explain the reasoning for them being outliers and how you believe they should be handled (Chapter 2). \n",
    "##### Include the other descriptive characteristics about the variables: Mean, Mode, Spread, and Tails (Chapter 2)."
   ]
  },
  {
   "cell_type": "code",
   "execution_count": 174,
   "id": "6dc5d9ba-8cee-4e76-9c93-6ee56860788a",
   "metadata": {},
   "outputs": [],
   "source": [
    "import numpy as np"
   ]
  },
  {
   "cell_type": "code",
   "execution_count": 176,
   "id": "3990fd2f-fce4-4aec-aea7-ade7d9dd5a65",
   "metadata": {},
   "outputs": [],
   "source": [
    "from os.path import basename, exists\n",
    "\n",
    "\n",
    "def download(url):\n",
    "    filename = basename(url)\n",
    "    if not exists(filename):\n",
    "        from urllib.request import urlretrieve\n",
    "\n",
    "        local, _ = urlretrieve(url, filename)\n",
    "        print(\"Downloaded \" + local)\n",
    "\n",
    "\n",
    "download(\"https://github.com/AllenDowney/ThinkStats2/raw/master/code/thinkstats2.py\")\n",
    "download(\"https://github.com/AllenDowney/ThinkStats2/raw/master/code/thinkplot.py\")"
   ]
  },
  {
   "cell_type": "code",
   "execution_count": 178,
   "id": "8fef0f37-e765-44b4-a81d-4967b93557cb",
   "metadata": {},
   "outputs": [
    {
     "data": {
      "text/plain": [
       "6        30\n",
       "28       51\n",
       "32       56\n",
       "38       70\n",
       "41       62\n",
       "         ..\n",
       "69927    62\n",
       "69929    57\n",
       "69953    60\n",
       "69962    39\n",
       "69972    50\n",
       "Name: Age, Length: 5397, dtype: int64"
      ]
     },
     "execution_count": 178,
     "metadata": {},
     "output_type": "execute_result"
    }
   ],
   "source": [
    "type2diabetesDf['Age']"
   ]
  },
  {
   "cell_type": "code",
   "execution_count": 180,
   "id": "f2577265-c56a-4167-a31d-d77e4686899b",
   "metadata": {},
   "outputs": [],
   "source": [
    "import thinkstats2\n",
    "\n",
    "hist_family_history = thinkstats2.Hist(type2diabetesDf['Family History'], label='Family History')\n",
    "hist_blood_gulcose_levels = thinkstats2.Hist(type2diabetesDf['Blood Glucose Levels'], label='Blood Glucose Levels')\n",
    "hist_age = thinkstats2.Hist(type2diabetesDf['Age'], label='Age')\n",
    "hist_bmi = thinkstats2.Hist(type2diabetesDf['BMI'], label='BMI')\n",
    "hist_waist_circumference = thinkstats2.Hist(type2diabetesDf['Waist Circumference'], label='Waist Circumference')"
   ]
  },
  {
   "cell_type": "code",
   "execution_count": 182,
   "id": "c56a1ace-dbdc-413f-b8b1-89d9e1f4e4cf",
   "metadata": {},
   "outputs": [
    {
     "name": "stdout",
     "output_type": "stream",
     "text": [
      "130 69\n",
      "131 66\n",
      "132 85\n",
      "133 69\n",
      "134 79\n",
      "135 84\n",
      "136 74\n",
      "137 74\n",
      "138 91\n",
      "139 85\n"
     ]
    }
   ],
   "source": [
    "for blood_gulcose_levels, freq in hist_blood_gulcose_levels.Smallest(10):\n",
    "    print(blood_gulcose_levels, freq) "
   ]
  },
  {
   "cell_type": "code",
   "execution_count": 184,
   "id": "348c8da4-6be0-466b-a0ce-d49b6c356d57",
   "metadata": {},
   "outputs": [
    {
     "name": "stdout",
     "output_type": "stream",
     "text": [
      "30 113\n",
      "31 97\n",
      "32 97\n",
      "33 129\n",
      "34 94\n",
      "35 119\n",
      "36 120\n",
      "37 109\n",
      "38 97\n",
      "39 103\n"
     ]
    }
   ],
   "source": [
    "for ages, freq in hist_age.Smallest(10):\n",
    "    print(ages, freq) "
   ]
  },
  {
   "cell_type": "code",
   "execution_count": 186,
   "id": "f893fd29-512a-49df-ba98-6d57a6cccb96",
   "metadata": {},
   "outputs": [
    {
     "name": "stdout",
     "output_type": "stream",
     "text": [
      "25 347\n",
      "26 372\n",
      "27 348\n",
      "28 325\n",
      "29 354\n",
      "30 388\n",
      "31 374\n",
      "32 424\n",
      "33 354\n",
      "34 348\n"
     ]
    }
   ],
   "source": [
    "for bmis, freq in hist_bmi.Smallest(10):\n",
    "    print(bmis, freq) "
   ]
  },
  {
   "cell_type": "code",
   "execution_count": 188,
   "id": "0f63ccc8-36c0-4f1b-b787-cabbed419f06",
   "metadata": {},
   "outputs": [
    {
     "name": "stdout",
     "output_type": "stream",
     "text": [
      "34 336\n",
      "35 327\n",
      "36 383\n",
      "37 328\n",
      "38 317\n",
      "39 332\n",
      "40 340\n",
      "41 381\n",
      "42 310\n",
      "43 318\n"
     ]
    }
   ],
   "source": [
    "for waist_circumferences, freq in hist_waist_circumference.Smallest(10):\n",
    "    print(waist_circumferences, freq) "
   ]
  },
  {
   "cell_type": "code",
   "execution_count": 190,
   "id": "3b4bbede-fe2f-4480-91ae-d04cd10f48ad",
   "metadata": {},
   "outputs": [
    {
     "data": {
      "image/png": "[encoded data removed]",
      "text/plain": [
       "<Figure size 640x480 with 1 Axes>"
      ]
     },
     "metadata": {},
     "output_type": "display_data"
    },
    {
     "data": {
      "text/plain": [
       "<Figure size 800x600 with 0 Axes>"
      ]
     },
     "metadata": {},
     "output_type": "display_data"
    }
   ],
   "source": [
    "import thinkplot\n",
    "thinkplot.Hist(hist_family_history)\n",
    "thinkplot.Show(Config='Family History', ylabel='frequency')"
   ]
  },
  {
   "cell_type": "code",
   "execution_count": 192,
   "id": "3d819b24-f92c-4ef4-ac12-d5b3863a9411",
   "metadata": {},
   "outputs": [
    {
     "data": {
      "image/png": "[encoded data removed]",
      "text/plain": [
       "<Figure size 640x480 with 1 Axes>"
      ]
     },
     "metadata": {},
     "output_type": "display_data"
    }
   ],
   "source": [
    "thinkplot.Hist(hist_blood_gulcose_levels)\n",
    "thinkplot.Config(xlabel='Blood Glucose Levels', ylabel='frequency')"
   ]
  },
  {
   "cell_type": "code",
   "execution_count": 194,
   "id": "82426d66-3297-4ca7-bb33-291564631da9",
   "metadata": {},
   "outputs": [
    {
     "data": {
      "image/png": "[encoded data removed]",
      "text/plain": [
       "<Figure size 640x480 with 1 Axes>"
      ]
     },
     "metadata": {},
     "output_type": "display_data"
    }
   ],
   "source": [
    "thinkplot.Hist(hist_age)\n",
    "thinkplot.Config(xlabel='Age', ylabel='frequency')"
   ]
  },
  {
   "cell_type": "code",
   "execution_count": 195,
   "id": "638a8e10-1aa2-4465-9157-5137803162a9",
   "metadata": {},
   "outputs": [
    {
     "data": {
      "image/png": "[encoded data removed]",
      "text/plain": [
       "<Figure size 640x480 with 1 Axes>"
      ]
     },
     "metadata": {},
     "output_type": "display_data"
    }
   ],
   "source": [
    "thinkplot.Hist(hist_bmi)\n",
    "thinkplot.Config(xlabel='BMI', ylabel='frequency')"
   ]
  },
  {
   "cell_type": "code",
   "execution_count": 198,
   "id": "a0cc333e-e4ea-42b4-af96-29be0598f51c",
   "metadata": {},
   "outputs": [
    {
     "data": {
      "image/png": "[encoded data removed]",
      "text/plain": [
       "<Figure size 640x480 with 1 Axes>"
      ]
     },
     "metadata": {},
     "output_type": "display_data"
    }
   ],
   "source": [
    "thinkplot.Hist(hist_waist_circumference)\n",
    "thinkplot.Config(xlabel='Waist Circumference', ylabel='frequency')"
   ]
  },
  {
   "cell_type": "code",
   "execution_count": 200,
   "id": "0572027c-5348-4bac-952e-00dcf91dc04b",
   "metadata": {},
   "outputs": [],
   "source": [
    "def meanDef(df):\n",
    "    return np.mean(df)"
   ]
  },
  {
   "cell_type": "code",
   "execution_count": 202,
   "id": "820d6e6f-d380-48a6-aa51-db5ada24b639",
   "metadata": {},
   "outputs": [],
   "source": [
    "import statistics as st\n",
    "def modeDef(df):\n",
    "    return st.mode(df)"
   ]
  },
  {
   "cell_type": "code",
   "execution_count": 204,
   "id": "0cde9fd7-6307-462a-8df4-f55cf2dea848",
   "metadata": {},
   "outputs": [],
   "source": [
    "def varianceDef(df):\n",
    "    return st.variance(df)"
   ]
  },
  {
   "cell_type": "code",
   "execution_count": 206,
   "id": "82df58bd-da3d-4c73-a5d1-c0ed3931f98c",
   "metadata": {},
   "outputs": [],
   "source": [
    "def tailDef(df):\n",
    "        mn=meanDef(df)\n",
    "        stdv=st.stdev(df)\n",
    "        tail_threshold=10\n",
    "        tail_values = [x for x in df if abs(x - mn) > tail_threshold*stdv]\n",
    "        return tail_values"
   ]
  },
  {
   "cell_type": "code",
   "execution_count": 208,
   "id": "08c54aa8-782c-40f1-9d62-46a939a08299",
   "metadata": {},
   "outputs": [],
   "source": [
    "equiv = {'No':0, 'Yes':1}\n",
    "type2diabetes_familyHistoryConvertedValues_Df = type2diabetesDf['Family History'].map(equiv)"
   ]
  },
  {
   "cell_type": "code",
   "execution_count": 210,
   "id": "425743ba-4731-44eb-bf41-0e22ed6c495f",
   "metadata": {},
   "outputs": [
    {
     "name": "stdout",
     "output_type": "stream",
     "text": [
      "Mean for Family History =  0.5088011858439874\n",
      "Mode for Family History =  1\n",
      "Variance for Family History =  0.2499688553877707\n",
      "Tail for Family History =  []\n"
     ]
    }
   ],
   "source": [
    "#Family History\n",
    "print(\"Mean for Family History = \",meanDef(type2diabetes_familyHistoryConvertedValues_Df))\n",
    "print(\"Mode for Family History = \",modeDef(type2diabetes_familyHistoryConvertedValues_Df))\n",
    "print(\"Variance for Family History = \",varianceDef(type2diabetes_familyHistoryConvertedValues_Df))\n",
    "print(\"Tail for Family History = \",tailDef(type2diabetes_familyHistoryConvertedValues_Df))"
   ]
  },
  {
   "cell_type": "code",
   "execution_count": 212,
   "id": "19b1e9d8-a62c-4825-b30e-1fa7d1a73065",
   "metadata": {},
   "outputs": [
    {
     "name": "stdout",
     "output_type": "stream",
     "text": [
      "Mean for Blood Glucose Levels =  164.0841208078562\n",
      "Mode for Blood Glucose Levels =  145\n",
      "Variance for Blood Glucose Levels =  403.11857100690014\n",
      "Tail for Blood Glucose Levels =  []\n"
     ]
    }
   ],
   "source": [
    "#Blood Glucose Levels\n",
    "print(\"Mean for Blood Glucose Levels = \", meanDef(type2diabetesDf['Blood Glucose Levels']))\n",
    "print(\"Mode for Blood Glucose Levels = \", modeDef(type2diabetesDf['Blood Glucose Levels']))\n",
    "print(\"Variance for Blood Glucose Levels = \", varianceDef(type2diabetesDf['Blood Glucose Levels']))\n",
    "print(\"Tail for Blood Glucose Levels = \", tailDef(type2diabetesDf['Blood Glucose Levels']))"
   ]
  },
  {
   "cell_type": "code",
   "execution_count": 214,
   "id": "392dfa73-95c4-462d-8d99-f7f57fb76f94",
   "metadata": {},
   "outputs": [
    {
     "name": "stdout",
     "output_type": "stream",
     "text": [
      "Mean for Age =  54.609783212896055\n",
      "Mode for Age =  54\n",
      "Variance for Age =  209.52931865203095\n",
      "Tail for Age =  []\n"
     ]
    }
   ],
   "source": [
    "#Age\n",
    "print(\"Mean for Age = \", meanDef(type2diabetesDf['Age']))\n",
    "print(\"Mode for Age = \", modeDef(type2diabetesDf['Age']))\n",
    "print(\"Variance for Age = \", varianceDef(type2diabetesDf['Age']))\n",
    "print(\"Tail for Age = \", tailDef(type2diabetesDf['Age']))"
   ]
  },
  {
   "cell_type": "code",
   "execution_count": 216,
   "id": "1aa9df46-a998-4673-a0eb-4d0b461d26ef",
   "metadata": {},
   "outputs": [
    {
     "name": "stdout",
     "output_type": "stream",
     "text": [
      "Mean for BMI =  31.969242171576802\n",
      "Mode for BMI =  32\n",
      "Variance for BMI =  18.07577727955555\n",
      "Tail for BMI =  []\n"
     ]
    }
   ],
   "source": [
    "#BMI\n",
    "print(\"Mean for BMI = \", meanDef(type2diabetesDf['BMI']))\n",
    "print(\"Mode for BMI = \", modeDef(type2diabetesDf['BMI']))\n",
    "print(\"Variance for BMI = \", varianceDef(type2diabetesDf['BMI']))\n",
    "print(\"Tail for BMI = \", tailDef(type2diabetesDf['BMI']))"
   ]
  },
  {
   "cell_type": "code",
   "execution_count": 218,
   "id": "5b452dcd-a82e-41d8-b9fb-1e590b035d9b",
   "metadata": {},
   "outputs": [
    {
     "name": "stdout",
     "output_type": "stream",
     "text": [
      "Mean for Waist Circumference =  41.475634611821384\n",
      "Mode for Waist Circumference =  36\n",
      "Variance for Waist Circumference =  21.297636388334787\n",
      "Tail for Waist Circumference =  []\n"
     ]
    }
   ],
   "source": [
    "#Waist Circumference\n",
    "print(\"Mean for Waist Circumference = \", meanDef(type2diabetesDf['Waist Circumference']))\n",
    "print(\"Mode for Waist Circumference = \", modeDef(type2diabetesDf['Waist Circumference']))\n",
    "print(\"Variance for Waist Circumference = \", varianceDef(type2diabetesDf['Waist Circumference']))\n",
    "print(\"Tail for Waist Circumference = \", tailDef(type2diabetesDf['Waist Circumference']))"
   ]
  },
  {
   "cell_type": "markdown",
   "id": "ab9b05e6-8ff1-4ca5-a532-39fb755ff7b6",
   "metadata": {},
   "source": [
    "##### Using pg. 29 of your text as an example, compare two scenarios in your data using a PMF. \n",
    "##### Reminder, this isn’t comparing two variables against each other – it is the same variable, but a different scenario. \n",
    "##### Almost like a filter. \n",
    "##### The example in the book is first babies compared to all other babies, it is still the same variable, \n",
    "##### but breaking the data out based on criteria we are exploring (Chapter 3)."
   ]
  },
  {
   "cell_type": "code",
   "execution_count": 221,
   "id": "fe7a0430-116f-4fb1-8cec-3e8d0fd100fc",
   "metadata": {},
   "outputs": [],
   "source": [
    "family_history_yes = type2diabetesDf[type2diabetesDf['Family History'] == 'Yes']\n",
    "family_history_no = type2diabetesDf[type2diabetesDf['Family History'] == 'No']"
   ]
  },
  {
   "cell_type": "code",
   "execution_count": 223,
   "id": "eb69e9b8-1455-4498-b937-d6a5385af80b",
   "metadata": {},
   "outputs": [
    {
     "data": {
      "text/html": [
       "<div>\n",
       "<style scoped>\n",
       "    .dataframe tbody tr th:only-of-type {\n",
       "        vertical-align: middle;\n",
       "    }\n",
       "\n",
       "    .dataframe tbody tr th {\n",
       "        vertical-align: top;\n",
       "    }\n",
       "\n",
       "    .dataframe thead th {\n",
       "        text-align: right;\n",
       "    }\n",
       "</style>\n",
       "<table border=\"1\" class=\"dataframe\">\n",
       "  <thead>\n",
       "    <tr style=\"text-align: right;\">\n",
       "      <th></th>\n",
       "      <th>Target</th>\n",
       "      <th>Genetic Markers</th>\n",
       "      <th>Autoantibodies</th>\n",
       "      <th>Family History</th>\n",
       "      <th>Environmental Factors</th>\n",
       "      <th>Insulin Levels</th>\n",
       "      <th>Age</th>\n",
       "      <th>BMI</th>\n",
       "      <th>Physical Activity</th>\n",
       "      <th>Dietary Habits</th>\n",
       "      <th>...</th>\n",
       "      <th>Pulmonary Function</th>\n",
       "      <th>Cystic Fibrosis Diagnosis</th>\n",
       "      <th>Steroid Use History</th>\n",
       "      <th>Genetic Testing</th>\n",
       "      <th>Neurological Assessments</th>\n",
       "      <th>Liver Function Tests</th>\n",
       "      <th>Digestive Enzyme Levels</th>\n",
       "      <th>Urine Test</th>\n",
       "      <th>Birth Weight</th>\n",
       "      <th>Early Onset Symptoms</th>\n",
       "    </tr>\n",
       "  </thead>\n",
       "  <tbody>\n",
       "    <tr>\n",
       "      <th>38</th>\n",
       "      <td>Type 2 Diabetes</td>\n",
       "      <td>Positive</td>\n",
       "      <td>Positive</td>\n",
       "      <td>Yes</td>\n",
       "      <td>Absent</td>\n",
       "      <td>44</td>\n",
       "      <td>70</td>\n",
       "      <td>34</td>\n",
       "      <td>Low</td>\n",
       "      <td>Unhealthy</td>\n",
       "      <td>...</td>\n",
       "      <td>73</td>\n",
       "      <td>No</td>\n",
       "      <td>No</td>\n",
       "      <td>Positive</td>\n",
       "      <td>3</td>\n",
       "      <td>Normal</td>\n",
       "      <td>83</td>\n",
       "      <td>Protein Present</td>\n",
       "      <td>2633</td>\n",
       "      <td>No</td>\n",
       "    </tr>\n",
       "    <tr>\n",
       "      <th>169</th>\n",
       "      <td>Type 2 Diabetes</td>\n",
       "      <td>Positive</td>\n",
       "      <td>Negative</td>\n",
       "      <td>Yes</td>\n",
       "      <td>Absent</td>\n",
       "      <td>47</td>\n",
       "      <td>42</td>\n",
       "      <td>27</td>\n",
       "      <td>High</td>\n",
       "      <td>Unhealthy</td>\n",
       "      <td>...</td>\n",
       "      <td>70</td>\n",
       "      <td>No</td>\n",
       "      <td>No</td>\n",
       "      <td>Positive</td>\n",
       "      <td>2</td>\n",
       "      <td>Normal</td>\n",
       "      <td>96</td>\n",
       "      <td>Normal</td>\n",
       "      <td>3573</td>\n",
       "      <td>No</td>\n",
       "    </tr>\n",
       "    <tr>\n",
       "      <th>227</th>\n",
       "      <td>Type 2 Diabetes</td>\n",
       "      <td>Positive</td>\n",
       "      <td>Negative</td>\n",
       "      <td>Yes</td>\n",
       "      <td>Present</td>\n",
       "      <td>48</td>\n",
       "      <td>69</td>\n",
       "      <td>29</td>\n",
       "      <td>Low</td>\n",
       "      <td>Unhealthy</td>\n",
       "      <td>...</td>\n",
       "      <td>62</td>\n",
       "      <td>No</td>\n",
       "      <td>Yes</td>\n",
       "      <td>Positive</td>\n",
       "      <td>2</td>\n",
       "      <td>Normal</td>\n",
       "      <td>64</td>\n",
       "      <td>Protein Present</td>\n",
       "      <td>3766</td>\n",
       "      <td>Yes</td>\n",
       "    </tr>\n",
       "    <tr>\n",
       "      <th>241</th>\n",
       "      <td>Type 2 Diabetes</td>\n",
       "      <td>Negative</td>\n",
       "      <td>Negative</td>\n",
       "      <td>Yes</td>\n",
       "      <td>Present</td>\n",
       "      <td>32</td>\n",
       "      <td>41</td>\n",
       "      <td>32</td>\n",
       "      <td>Moderate</td>\n",
       "      <td>Unhealthy</td>\n",
       "      <td>...</td>\n",
       "      <td>76</td>\n",
       "      <td>No</td>\n",
       "      <td>Yes</td>\n",
       "      <td>Negative</td>\n",
       "      <td>3</td>\n",
       "      <td>Normal</td>\n",
       "      <td>53</td>\n",
       "      <td>Protein Present</td>\n",
       "      <td>2507</td>\n",
       "      <td>Yes</td>\n",
       "    </tr>\n",
       "    <tr>\n",
       "      <th>254</th>\n",
       "      <td>Type 2 Diabetes</td>\n",
       "      <td>Positive</td>\n",
       "      <td>Negative</td>\n",
       "      <td>Yes</td>\n",
       "      <td>Present</td>\n",
       "      <td>48</td>\n",
       "      <td>78</td>\n",
       "      <td>39</td>\n",
       "      <td>Moderate</td>\n",
       "      <td>Healthy</td>\n",
       "      <td>...</td>\n",
       "      <td>71</td>\n",
       "      <td>Yes</td>\n",
       "      <td>Yes</td>\n",
       "      <td>Negative</td>\n",
       "      <td>2</td>\n",
       "      <td>Normal</td>\n",
       "      <td>99</td>\n",
       "      <td>Normal</td>\n",
       "      <td>3289</td>\n",
       "      <td>No</td>\n",
       "    </tr>\n",
       "  </tbody>\n",
       "</table>\n",
       "<p>5 rows × 34 columns</p>\n",
       "</div>"
      ],
      "text/plain": [
       "              Target Genetic Markers Autoantibodies Family History  \\\n",
       "38   Type 2 Diabetes        Positive       Positive            Yes   \n",
       "169  Type 2 Diabetes        Positive       Negative            Yes   \n",
       "227  Type 2 Diabetes        Positive       Negative            Yes   \n",
       "241  Type 2 Diabetes        Negative       Negative            Yes   \n",
       "254  Type 2 Diabetes        Positive       Negative            Yes   \n",
       "\n",
       "    Environmental Factors  Insulin Levels  Age  BMI Physical Activity  \\\n",
       "38                 Absent              44   70   34               Low   \n",
       "169                Absent              47   42   27              High   \n",
       "227               Present              48   69   29               Low   \n",
       "241               Present              32   41   32          Moderate   \n",
       "254               Present              48   78   39          Moderate   \n",
       "\n",
       "    Dietary Habits  ...  Pulmonary Function  Cystic Fibrosis Diagnosis  \\\n",
       "38       Unhealthy  ...                  73                         No   \n",
       "169      Unhealthy  ...                  70                         No   \n",
       "227      Unhealthy  ...                  62                         No   \n",
       "241      Unhealthy  ...                  76                         No   \n",
       "254        Healthy  ...                  71                        Yes   \n",
       "\n",
       "     Steroid Use History  Genetic Testing Neurological Assessments  \\\n",
       "38                    No         Positive                        3   \n",
       "169                   No         Positive                        2   \n",
       "227                  Yes         Positive                        2   \n",
       "241                  Yes         Negative                        3   \n",
       "254                  Yes         Negative                        2   \n",
       "\n",
       "    Liver Function Tests Digestive Enzyme Levels       Urine Test  \\\n",
       "38                Normal                      83  Protein Present   \n",
       "169               Normal                      96           Normal   \n",
       "227               Normal                      64  Protein Present   \n",
       "241               Normal                      53  Protein Present   \n",
       "254               Normal                      99           Normal   \n",
       "\n",
       "    Birth Weight Early Onset Symptoms  \n",
       "38          2633                   No  \n",
       "169         3573                   No  \n",
       "227         3766                  Yes  \n",
       "241         2507                  Yes  \n",
       "254         3289                   No  \n",
       "\n",
       "[5 rows x 34 columns]"
      ]
     },
     "execution_count": 223,
     "metadata": {},
     "output_type": "execute_result"
    }
   ],
   "source": [
    "family_history_yes.head()"
   ]
  },
  {
   "cell_type": "code",
   "execution_count": 225,
   "id": "1c4c67de-675d-423f-a435-1198628c1478",
   "metadata": {},
   "outputs": [
    {
     "data": {
      "text/html": [
       "<div>\n",
       "<style scoped>\n",
       "    .dataframe tbody tr th:only-of-type {\n",
       "        vertical-align: middle;\n",
       "    }\n",
       "\n",
       "    .dataframe tbody tr th {\n",
       "        vertical-align: top;\n",
       "    }\n",
       "\n",
       "    .dataframe thead th {\n",
       "        text-align: right;\n",
       "    }\n",
       "</style>\n",
       "<table border=\"1\" class=\"dataframe\">\n",
       "  <thead>\n",
       "    <tr style=\"text-align: right;\">\n",
       "      <th></th>\n",
       "      <th>Target</th>\n",
       "      <th>Genetic Markers</th>\n",
       "      <th>Autoantibodies</th>\n",
       "      <th>Family History</th>\n",
       "      <th>Environmental Factors</th>\n",
       "      <th>Insulin Levels</th>\n",
       "      <th>Age</th>\n",
       "      <th>BMI</th>\n",
       "      <th>Physical Activity</th>\n",
       "      <th>Dietary Habits</th>\n",
       "      <th>...</th>\n",
       "      <th>Pulmonary Function</th>\n",
       "      <th>Cystic Fibrosis Diagnosis</th>\n",
       "      <th>Steroid Use History</th>\n",
       "      <th>Genetic Testing</th>\n",
       "      <th>Neurological Assessments</th>\n",
       "      <th>Liver Function Tests</th>\n",
       "      <th>Digestive Enzyme Levels</th>\n",
       "      <th>Urine Test</th>\n",
       "      <th>Birth Weight</th>\n",
       "      <th>Early Onset Symptoms</th>\n",
       "    </tr>\n",
       "  </thead>\n",
       "  <tbody>\n",
       "    <tr>\n",
       "      <th>6</th>\n",
       "      <td>Type 2 Diabetes</td>\n",
       "      <td>Negative</td>\n",
       "      <td>Negative</td>\n",
       "      <td>No</td>\n",
       "      <td>Absent</td>\n",
       "      <td>29</td>\n",
       "      <td>30</td>\n",
       "      <td>31</td>\n",
       "      <td>Moderate</td>\n",
       "      <td>Healthy</td>\n",
       "      <td>...</td>\n",
       "      <td>64</td>\n",
       "      <td>Yes</td>\n",
       "      <td>Yes</td>\n",
       "      <td>Negative</td>\n",
       "      <td>3</td>\n",
       "      <td>Abnormal</td>\n",
       "      <td>96</td>\n",
       "      <td>Ketones Present</td>\n",
       "      <td>4426</td>\n",
       "      <td>No</td>\n",
       "    </tr>\n",
       "    <tr>\n",
       "      <th>28</th>\n",
       "      <td>Type 2 Diabetes</td>\n",
       "      <td>Positive</td>\n",
       "      <td>Negative</td>\n",
       "      <td>No</td>\n",
       "      <td>Present</td>\n",
       "      <td>15</td>\n",
       "      <td>51</td>\n",
       "      <td>39</td>\n",
       "      <td>Moderate</td>\n",
       "      <td>Healthy</td>\n",
       "      <td>...</td>\n",
       "      <td>69</td>\n",
       "      <td>Yes</td>\n",
       "      <td>Yes</td>\n",
       "      <td>Negative</td>\n",
       "      <td>3</td>\n",
       "      <td>Normal</td>\n",
       "      <td>49</td>\n",
       "      <td>Protein Present</td>\n",
       "      <td>2587</td>\n",
       "      <td>Yes</td>\n",
       "    </tr>\n",
       "    <tr>\n",
       "      <th>32</th>\n",
       "      <td>Type 2 Diabetes</td>\n",
       "      <td>Positive</td>\n",
       "      <td>Positive</td>\n",
       "      <td>No</td>\n",
       "      <td>Present</td>\n",
       "      <td>20</td>\n",
       "      <td>56</td>\n",
       "      <td>31</td>\n",
       "      <td>Moderate</td>\n",
       "      <td>Healthy</td>\n",
       "      <td>...</td>\n",
       "      <td>71</td>\n",
       "      <td>No</td>\n",
       "      <td>No</td>\n",
       "      <td>Negative</td>\n",
       "      <td>3</td>\n",
       "      <td>Abnormal</td>\n",
       "      <td>49</td>\n",
       "      <td>Glucose Present</td>\n",
       "      <td>3079</td>\n",
       "      <td>Yes</td>\n",
       "    </tr>\n",
       "    <tr>\n",
       "      <th>41</th>\n",
       "      <td>Type 2 Diabetes</td>\n",
       "      <td>Negative</td>\n",
       "      <td>Negative</td>\n",
       "      <td>No</td>\n",
       "      <td>Absent</td>\n",
       "      <td>11</td>\n",
       "      <td>62</td>\n",
       "      <td>28</td>\n",
       "      <td>Moderate</td>\n",
       "      <td>Healthy</td>\n",
       "      <td>...</td>\n",
       "      <td>63</td>\n",
       "      <td>Yes</td>\n",
       "      <td>No</td>\n",
       "      <td>Positive</td>\n",
       "      <td>2</td>\n",
       "      <td>Normal</td>\n",
       "      <td>71</td>\n",
       "      <td>Protein Present</td>\n",
       "      <td>3521</td>\n",
       "      <td>Yes</td>\n",
       "    </tr>\n",
       "    <tr>\n",
       "      <th>50</th>\n",
       "      <td>Type 2 Diabetes</td>\n",
       "      <td>Negative</td>\n",
       "      <td>Positive</td>\n",
       "      <td>No</td>\n",
       "      <td>Present</td>\n",
       "      <td>19</td>\n",
       "      <td>67</td>\n",
       "      <td>33</td>\n",
       "      <td>High</td>\n",
       "      <td>Unhealthy</td>\n",
       "      <td>...</td>\n",
       "      <td>79</td>\n",
       "      <td>Yes</td>\n",
       "      <td>Yes</td>\n",
       "      <td>Positive</td>\n",
       "      <td>3</td>\n",
       "      <td>Normal</td>\n",
       "      <td>88</td>\n",
       "      <td>Glucose Present</td>\n",
       "      <td>3132</td>\n",
       "      <td>No</td>\n",
       "    </tr>\n",
       "  </tbody>\n",
       "</table>\n",
       "<p>5 rows × 34 columns</p>\n",
       "</div>"
      ],
      "text/plain": [
       "             Target Genetic Markers Autoantibodies Family History  \\\n",
       "6   Type 2 Diabetes        Negative       Negative             No   \n",
       "28  Type 2 Diabetes        Positive       Negative             No   \n",
       "32  Type 2 Diabetes        Positive       Positive             No   \n",
       "41  Type 2 Diabetes        Negative       Negative             No   \n",
       "50  Type 2 Diabetes        Negative       Positive             No   \n",
       "\n",
       "   Environmental Factors  Insulin Levels  Age  BMI Physical Activity  \\\n",
       "6                 Absent              29   30   31          Moderate   \n",
       "28               Present              15   51   39          Moderate   \n",
       "32               Present              20   56   31          Moderate   \n",
       "41                Absent              11   62   28          Moderate   \n",
       "50               Present              19   67   33              High   \n",
       "\n",
       "   Dietary Habits  ...  Pulmonary Function  Cystic Fibrosis Diagnosis  \\\n",
       "6         Healthy  ...                  64                        Yes   \n",
       "28        Healthy  ...                  69                        Yes   \n",
       "32        Healthy  ...                  71                         No   \n",
       "41        Healthy  ...                  63                        Yes   \n",
       "50      Unhealthy  ...                  79                        Yes   \n",
       "\n",
       "    Steroid Use History  Genetic Testing Neurological Assessments  \\\n",
       "6                   Yes         Negative                        3   \n",
       "28                  Yes         Negative                        3   \n",
       "32                   No         Negative                        3   \n",
       "41                   No         Positive                        2   \n",
       "50                  Yes         Positive                        3   \n",
       "\n",
       "   Liver Function Tests Digestive Enzyme Levels       Urine Test Birth Weight  \\\n",
       "6              Abnormal                      96  Ketones Present         4426   \n",
       "28               Normal                      49  Protein Present         2587   \n",
       "32             Abnormal                      49  Glucose Present         3079   \n",
       "41               Normal                      71  Protein Present         3521   \n",
       "50               Normal                      88  Glucose Present         3132   \n",
       "\n",
       "   Early Onset Symptoms  \n",
       "6                    No  \n",
       "28                  Yes  \n",
       "32                  Yes  \n",
       "41                  Yes  \n",
       "50                   No  \n",
       "\n",
       "[5 rows x 34 columns]"
      ]
     },
     "execution_count": 225,
     "metadata": {},
     "output_type": "execute_result"
    }
   ],
   "source": [
    "family_history_no.head()"
   ]
  },
  {
   "cell_type": "code",
   "execution_count": 230,
   "id": "b0ad9417-a781-4ab4-9ca8-c04a37d7fdc4",
   "metadata": {},
   "outputs": [
    {
     "data": {
      "image/png": "[encoded data removed]",
      "text/plain": [
       "<Figure size 640x480 with 1 Axes>"
      ]
     },
     "metadata": {},
     "output_type": "display_data"
    },
    {
     "data": {
      "text/plain": [
       "<Figure size 800x600 with 0 Axes>"
      ]
     },
     "metadata": {},
     "output_type": "display_data"
    }
   ],
   "source": [
    "family_history_yes_hist = thinkstats2.Hist(family_history_yes['Blood Glucose Levels'], label='family_history_yes')\n",
    "family_history_no_hist =  thinkstats2.Hist(family_history_no['Blood Glucose Levels'], label='family_history_no')\n",
    "width = 0.45\n",
    "thinkplot.PrePlot(2)\n",
    "thinkplot.Hist(family_history_yes_hist, align='right', width=width)\n",
    "thinkplot.Hist(family_history_no_hist, align='left', width=width)\n",
    "thinkplot.Show(xlabel='BMI',ylabel='frequency')"
   ]
  },
  {
   "cell_type": "markdown",
   "id": "90e1245a-90e6-4e4e-aff9-e4df400114d2",
   "metadata": {},
   "source": [
    "##### Create 1 CDF with one of your variables, using page 41-44 as your guide, what does this tell you about your variable \n",
    "##### and how does it address the question you are trying to answer (Chapter 4)."
   ]
  },
  {
   "cell_type": "code",
   "execution_count": 42,
   "id": "8b5c2b3a-21b1-4a66-bd5e-230638c44808",
   "metadata": {},
   "outputs": [
    {
     "data": {
      "image/png": "[encoded data removed]",
      "text/plain": [
       "<Figure size 640x480 with 1 Axes>"
      ]
     },
     "metadata": {},
     "output_type": "display_data"
    },
    {
     "data": {
      "text/plain": [
       "<Figure size 800x600 with 0 Axes>"
      ]
     },
     "metadata": {},
     "output_type": "display_data"
    }
   ],
   "source": [
    "cdf = thinkstats2.Cdf(type2diabetesDf['BMI'], label='BMI')\n",
    "thinkplot.Cdf(cdf)\n",
    "thinkplot.Show(xlabel='BMI', ylabel='Cumulative Probability')"
   ]
  },
  {
   "cell_type": "code",
   "execution_count": 157,
   "id": "05e73b8f-2c9d-445a-be8f-df414678f37f",
   "metadata": {},
   "outputs": [
    {
     "data": {
      "image/png": "[encoded data removed]",
      "text/plain": [
       "<Figure size 640x480 with 1 Axes>"
      ]
     },
     "metadata": {},
     "output_type": "display_data"
    },
    {
     "data": {
      "text/plain": [
       "<Figure size 800x600 with 0 Axes>"
      ]
     },
     "metadata": {},
     "output_type": "display_data"
    }
   ],
   "source": [
    "family_history_yes_cdf = thinkstats2.Cdf(family_history_yes['Blood Glucose Levels'], label='family_history_yes')\n",
    "family_history_no_cdf =  thinkstats2.Cdf(family_history_no['Blood Glucose Levels'], label='family_history_no')\n",
    "width = 0.45\n",
    "thinkplot.PrePlot(2)\n",
    "thinkplot.Cdfs([family_history_yes_cdf, family_history_no_cdf])\n",
    "thinkplot.Show(xlabel='Blood Glucose Levels',ylabel='Cumulative Probability')"
   ]
  },
  {
   "cell_type": "markdown",
   "id": "414070a9-75d7-43a9-a534-4cde4eee949c",
   "metadata": {},
   "source": [
    "##### Plot 1 analytical distribution and provide your analysis on how it applies to the dataset you have chosen (Chapter 5)."
   ]
  },
  {
   "cell_type": "code",
   "execution_count": 45,
   "id": "47132470-6ae4-4766-ac46-d5ab6ce5e4d1",
   "metadata": {},
   "outputs": [],
   "source": [
    "# weights = preg.totalwgt_lb.dropna()\n",
    "ages = type2diabetesDf['Age']"
   ]
  },
  {
   "cell_type": "code",
   "execution_count": 46,
   "id": "e9636b78-60f4-48f7-a15e-62e4bfcdfcf3",
   "metadata": {},
   "outputs": [
    {
     "name": "stdout",
     "output_type": "stream",
     "text": [
      "Mean, Var 54.61198261198261 201.66176531891898\n",
      "Sigma 14.200766363788928\n"
     ]
    },
    {
     "data": {
      "image/png": "[encoded data removed]",
      "text/plain": [
       "<Figure size 640x480 with 1 Axes>"
      ]
     },
     "metadata": {},
     "output_type": "display_data"
    }
   ],
   "source": [
    "# estimate parameters: trimming outliers yields a better fit\n",
    "mu, var = thinkstats2.TrimmedMeanVar(ages, p=0.01)\n",
    "print(\"Mean, Var\", mu, var)\n",
    "\n",
    "# plot the model\n",
    "sigma = np.sqrt(var)\n",
    "print(\"Sigma\", sigma)\n",
    "xs, ps = thinkstats2.RenderNormalCdf(mu, sigma, low=30, high=80)\n",
    "\n",
    "thinkplot.Plot(xs, ps, label=\"model\", color=\"0.6\")\n",
    "\n",
    "# plot the data\n",
    "cdf = thinkstats2.Cdf(ages, label=\"data\")\n",
    "\n",
    "thinkplot.PrePlot(1)\n",
    "thinkplot.Cdf(cdf)\n",
    "thinkplot.Config(title=\"Ages\", xlabel=\"Ages (years)\", ylabel=\"CDF\")"
   ]
  },
  {
   "cell_type": "markdown",
   "id": "aef50a47-d69a-4a97-aa97-c563fd8e5247",
   "metadata": {},
   "source": [
    "##### Create two scatter plots comparing two variables and provide your analysis on correlation and causation. \n",
    "##### Remember, covariance, Pearson’s correlation, and Non-Linear Relationships should also be considered during your analysis (Chapter 7).\n"
   ]
  },
  {
   "cell_type": "code",
   "execution_count": 48,
   "id": "a6685881-96f2-4a5a-a05f-2357258cc698",
   "metadata": {},
   "outputs": [],
   "source": [
    "def SampleRows(df, nrows, replace=False):\n",
    "    indices = np.random.choice(df.index, nrows, replace=replace)\n",
    "    sample = df.loc[indices]\n",
    "    return sample"
   ]
  },
  {
   "cell_type": "code",
   "execution_count": 49,
   "id": "610bf050-357d-4fad-a41f-3ff5695b7189",
   "metadata": {},
   "outputs": [],
   "source": [
    "sample = SampleRows(type2diabetesDf, 5000)\n",
    "bloodGulcoseLevels, waistCircumferences = sample['Blood Glucose Levels'], sample['Waist Circumference']"
   ]
  },
  {
   "cell_type": "code",
   "execution_count": 50,
   "id": "d66b003e-f643-4c62-a51f-6a8bdef862e1",
   "metadata": {},
   "outputs": [
    {
     "name": "stdout",
     "output_type": "stream",
     "text": [
      "<class 'pandas.core.series.Series'>\n",
      "Index: 5000 entries, 42226 to 58019\n",
      "Series name: Blood Glucose Levels\n",
      "Non-Null Count  Dtype\n",
      "--------------  -----\n",
      "5000 non-null   int64\n",
      "dtypes: int64(1)\n",
      "memory usage: 78.1 KB\n"
     ]
    }
   ],
   "source": [
    "bloodGulcoseLevels.info()"
   ]
  },
  {
   "cell_type": "code",
   "execution_count": 51,
   "id": "c342b69e-f8ef-4f8b-b448-9f482110ff32",
   "metadata": {},
   "outputs": [
    {
     "name": "stdout",
     "output_type": "stream",
     "text": [
      "<class 'pandas.core.series.Series'>\n",
      "Index: 5000 entries, 42226 to 58019\n",
      "Series name: Waist Circumference\n",
      "Non-Null Count  Dtype\n",
      "--------------  -----\n",
      "5000 non-null   int64\n",
      "dtypes: int64(1)\n",
      "memory usage: 78.1 KB\n"
     ]
    }
   ],
   "source": [
    "waistCircumferences.info()"
   ]
  },
  {
   "cell_type": "code",
   "execution_count": 52,
   "id": "4e64d8ef-344e-4e2f-a42c-ccdf667e91b2",
   "metadata": {},
   "outputs": [
    {
     "data": {
      "image/png": "[encoded data removed]",
      "text/plain": [
       "<Figure size 640x480 with 1 Axes>"
      ]
     },
     "metadata": {},
     "output_type": "display_data"
    }
   ],
   "source": [
    "thinkplot.Scatter(waistCircumferences, bloodGulcoseLevels, alpha=1)\n",
    "thinkplot.Config(xlabel='Waist Circumferences (inches)',\n",
    "                 ylabel='Blood Gulcose Levels (mg/dL)',\n",
    "                 axis=[20, 60, 90, 250],\n",
    "                 legend=False)"
   ]
  },
  {
   "cell_type": "code",
   "execution_count": 53,
   "id": "836559c7-436c-4a99-b28c-afde8af12759",
   "metadata": {},
   "outputs": [],
   "source": [
    "def Jitter(values, jitter=0.5):\n",
    "    n = len(values)\n",
    "    return np.random.normal(0, jitter, n) + values"
   ]
  },
  {
   "cell_type": "code",
   "execution_count": 54,
   "id": "3548f6dd-ae74-43c3-9cce-96f43d43b59b",
   "metadata": {},
   "outputs": [],
   "source": [
    "bloodGulcoseLevels = Jitter(bloodGulcoseLevels, 1.3)\n",
    "waistCircumferences = Jitter(waistCircumferences, 0.5)"
   ]
  },
  {
   "cell_type": "code",
   "execution_count": 55,
   "id": "8365a72e-be8b-470e-9588-0f9e181e61b6",
   "metadata": {},
   "outputs": [
    {
     "data": {
      "image/png": "[encoded data removed]",
      "text/plain": [
       "<Figure size 640x480 with 1 Axes>"
      ]
     },
     "metadata": {},
     "output_type": "display_data"
    }
   ],
   "source": [
    "thinkplot.Scatter(waistCircumferences, bloodGulcoseLevels, alpha=1.0,s=5)\n",
    "thinkplot.Config(xlabel='Waist Circumferences (inches)',\n",
    "                 ylabel='Blood Gulcose Levels (mg/dL)',\n",
    "                 axis=[20, 60, 90, 250],\n",
    "                 legend=False)"
   ]
  },
  {
   "cell_type": "code",
   "execution_count": 56,
   "id": "b814ddc3-f951-4e8a-8536-4f35abc6217a",
   "metadata": {},
   "outputs": [],
   "source": [
    "def Cov(xs, ys, meanx=None, meany=None):\n",
    "    xs = np.asarray(xs)\n",
    "    ys = np.asarray(ys)\n",
    "\n",
    "    if meanx is None:\n",
    "        meanx = np.mean(xs)\n",
    "    if meany is None:\n",
    "        meany = np.mean(ys)\n",
    "\n",
    "    cov = np.dot(xs-meanx, ys-meany) / len(xs)\n",
    "    return cov"
   ]
  },
  {
   "cell_type": "code",
   "execution_count": 57,
   "id": "94cd76e0-2114-4580-af7d-6fe9c8fcab99",
   "metadata": {},
   "outputs": [
    {
     "data": {
      "text/plain": [
       "1.3866743296994473"
      ]
     },
     "execution_count": 57,
     "metadata": {},
     "output_type": "execute_result"
    }
   ],
   "source": [
    "Cov(waistCircumferences, bloodGulcoseLevels)"
   ]
  },
  {
   "cell_type": "code",
   "execution_count": 58,
   "id": "4c84bd46-d544-4cd8-b532-d2c00f67e820",
   "metadata": {},
   "outputs": [],
   "source": [
    "def Corr(xs, ys):\n",
    "    xs = np.asarray(xs)\n",
    "    ys = np.asarray(ys)\n",
    "\n",
    "    meanx, varx = thinkstats2.MeanVar(xs)\n",
    "    meany, vary = thinkstats2.MeanVar(ys)\n",
    "\n",
    "    corr = Cov(xs, ys, meanx, meany) / np.sqrt(varx * vary)\n",
    "    return corr"
   ]
  },
  {
   "cell_type": "code",
   "execution_count": 59,
   "id": "7d3b120f-3edf-4338-a9dd-eaaa71ac3e23",
   "metadata": {},
   "outputs": [
    {
     "data": {
      "text/plain": [
       "0.014847949014729234"
      ]
     },
     "execution_count": 59,
     "metadata": {},
     "output_type": "execute_result"
    }
   ],
   "source": [
    "Corr(waistCircumferences, bloodGulcoseLevels)"
   ]
  },
  {
   "cell_type": "markdown",
   "id": "a5fb607c-ba8e-40ac-88c8-8514d87eee00",
   "metadata": {},
   "source": [
    "##### Conduct a test on your hypothesis using one of the methods covered in Chapter 9."
   ]
  },
  {
   "cell_type": "code",
   "execution_count": 61,
   "id": "4324d13a-d001-4a99-ac47-c037c2ac1615",
   "metadata": {},
   "outputs": [],
   "source": [
    "class HypothesisTest(object):\n",
    "\n",
    "    def __init__(self, data):\n",
    "        self.data = data\n",
    "        self.MakeModel()\n",
    "        self.actual = self.TestStatistic(data)\n",
    "\n",
    "    def PValue(self, iters=1000):\n",
    "        self.test_stats = [self.TestStatistic(self.RunModel()) \n",
    "                           for _ in range(iters)]\n",
    "\n",
    "        count = sum(1 for x in self.test_stats if x >= self.actual)\n",
    "        return count / iters\n",
    "\n",
    "    def TestStatistic(self, data):\n",
    "        raise UnimplementedMethodException()\n",
    "\n",
    "    def MakeModel(self):\n",
    "        pass\n",
    "\n",
    "    def RunModel(self):\n",
    "        raise UnimplementedMethodException()"
   ]
  },
  {
   "cell_type": "code",
   "execution_count": 62,
   "id": "d2832aba-cdd7-4224-9401-1f77952e0ba3",
   "metadata": {},
   "outputs": [],
   "source": [
    "class FamilyHistory(HypothesisTest):\n",
    "\n",
    "    def TestStatistic(self, data):\n",
    "        heads, tails = data\n",
    "        test_stat = abs(heads - tails)\n",
    "        return test_stat\n",
    "\n",
    "    def RunModel(self):\n",
    "        heads, tails = self.data\n",
    "        n = heads + tails\n",
    "        sample = [random.choice('HT') for _ in range(n)]\n",
    "        hist = thinkstats2.Hist(sample)\n",
    "        data = hist['H'], hist['T']\n",
    "        return data"
   ]
  },
  {
   "cell_type": "code",
   "execution_count": 63,
   "id": "3303a967-115c-4cad-bcab-177f3542e6a9",
   "metadata": {},
   "outputs": [
    {
     "data": {
      "text/plain": [
       "93364"
      ]
     },
     "execution_count": 63,
     "metadata": {},
     "output_type": "execute_result"
    }
   ],
   "source": [
    "family_history_yes.size"
   ]
  },
  {
   "cell_type": "code",
   "execution_count": 64,
   "id": "8d545141-b275-4bf0-8eaa-9219ba788a9d",
   "metadata": {},
   "outputs": [
    {
     "data": {
      "text/plain": [
       "90134"
      ]
     },
     "execution_count": 64,
     "metadata": {},
     "output_type": "execute_result"
    }
   ],
   "source": [
    "family_history_no.size"
   ]
  },
  {
   "cell_type": "code",
   "execution_count": 65,
   "id": "b8eef5fa-f89c-4d25-89ca-6a13f43488f8",
   "metadata": {},
   "outputs": [],
   "source": [
    "import random"
   ]
  },
  {
   "cell_type": "code",
   "execution_count": 149,
   "id": "1e703e7a-d03c-4fcd-ad99-3a6addba3fe8",
   "metadata": {},
   "outputs": [
    {
     "name": "stdout",
     "output_type": "stream",
     "text": [
      "PValue of With and Without Family History =  0.0\n"
     ]
    }
   ],
   "source": [
    "fh = FamilyHistory((family_history_yes.size, family_history_no.size))\n",
    "pvalue = fh.PValue()\n",
    "print(\"PValue of With and Without Family History = \", pvalue)"
   ]
  },
  {
   "cell_type": "markdown",
   "id": "e3eb5947-8327-4e7e-9c89-65b1de5f3cb0",
   "metadata": {},
   "source": [
    "##### For this project, conduct a regression analysis on either one dependent and one explanatory variable, or multiple explanatory variables (Chapter 10 & 11)."
   ]
  },
  {
   "cell_type": "code",
   "execution_count": 68,
   "id": "57e9a477-364a-4749-9044-710b27a6a692",
   "metadata": {},
   "outputs": [],
   "source": [
    "#### Linear (Dependent Variable)"
   ]
  },
  {
   "cell_type": "code",
   "execution_count": 69,
   "id": "c97135e3-5965-4134-b65a-5e6ad363b2aa",
   "metadata": {},
   "outputs": [],
   "source": [
    "from thinkstats2 import Mean, MeanVar, Var, Std, Cov\n",
    "\n",
    "def LeastSquares(xs, ys):\n",
    "    meanx, varx = MeanVar(xs)\n",
    "    meany = Mean(ys)\n",
    "\n",
    "    slope = Cov(xs, ys, meanx, meany) / varx\n",
    "    inter = meany - slope * meanx\n",
    "\n",
    "    return inter, slope"
   ]
  },
  {
   "cell_type": "code",
   "execution_count": 70,
   "id": "91da517c-6a04-4d5e-a37c-c943d78eaea2",
   "metadata": {},
   "outputs": [],
   "source": [
    "bmi = type2diabetesDf['BMI']\n",
    "waistCircumference = type2diabetesDf['Waist Circumference']"
   ]
  },
  {
   "cell_type": "code",
   "execution_count": 71,
   "id": "774c42fd-e16e-4f52-9f7b-0cb77c72b805",
   "metadata": {},
   "outputs": [
    {
     "data": {
      "text/plain": [
       "31.969242171576802"
      ]
     },
     "execution_count": 71,
     "metadata": {},
     "output_type": "execute_result"
    }
   ],
   "source": [
    "Mean(bmi)"
   ]
  },
  {
   "cell_type": "markdown",
   "id": "2a7c007a-5633-47e0-9930-114f62476178",
   "metadata": {},
   "source": [
    "Here's the least squares fit to BMI as a function of Waist Circumference."
   ]
  },
  {
   "cell_type": "code",
   "execution_count": 73,
   "id": "11adff2c-45ed-4123-a3b0-e78a7a28c879",
   "metadata": {},
   "outputs": [
    {
     "data": {
      "text/plain": [
       "(32.15981471981905, -0.004594807289288199)"
      ]
     },
     "execution_count": 73,
     "metadata": {},
     "output_type": "execute_result"
    }
   ],
   "source": [
    "inter, slope = LeastSquares(waistCircumference, bmi)\n",
    "inter, slope"
   ]
  },
  {
   "cell_type": "markdown",
   "id": "d3a241c0-f39e-423d-8128-b7d27a5f9c5f",
   "metadata": {},
   "source": [
    "The intercept is often easier to interpret if we evaluate it at the mean of the independent variable."
   ]
  },
  {
   "cell_type": "code",
   "execution_count": 75,
   "id": "c0b34ba9-c409-4d5c-bdb3-938e8217bf5e",
   "metadata": {},
   "outputs": [
    {
     "data": {
      "text/plain": [
       "41.475634611821384"
      ]
     },
     "execution_count": 75,
     "metadata": {},
     "output_type": "execute_result"
    }
   ],
   "source": [
    "Mean(waistCircumference)"
   ]
  },
  {
   "cell_type": "code",
   "execution_count": 76,
   "id": "6a420031-c6c8-4072-bcc9-f1e00119625a",
   "metadata": {},
   "outputs": [
    {
     "data": {
      "text/plain": [
       "31.966832813668947"
      ]
     },
     "execution_count": 76,
     "metadata": {},
     "output_type": "execute_result"
    }
   ],
   "source": [
    "inter + slope * 42"
   ]
  },
  {
   "cell_type": "code",
   "execution_count": 77,
   "id": "e8b2b828-44e5-4b64-841e-1c750017a0c3",
   "metadata": {},
   "outputs": [
    {
     "data": {
      "text/plain": [
       "-0.8270653120718757"
      ]
     },
     "execution_count": 77,
     "metadata": {},
     "output_type": "execute_result"
    }
   ],
   "source": [
    "slope * 180"
   ]
  },
  {
   "cell_type": "code",
   "execution_count": 78,
   "id": "83f38fd6-9e72-4be7-ab20-17bfc1a137b1",
   "metadata": {},
   "outputs": [],
   "source": [
    "def FitLine(xs, inter, slope):\n",
    "    fit_xs = np.sort(xs)\n",
    "    fit_ys = inter + slope * fit_xs\n",
    "    return fit_xs, fit_ys"
   ]
  },
  {
   "cell_type": "code",
   "execution_count": 79,
   "id": "44981ec9-e9d4-4e1e-b9c1-0f23d67858cb",
   "metadata": {},
   "outputs": [],
   "source": [
    "fit_xs, fit_ys = FitLine(waistCircumference, inter, slope)"
   ]
  },
  {
   "cell_type": "code",
   "execution_count": 234,
   "id": "3eda5cff-3f46-437b-b864-9dc378e4bb44",
   "metadata": {
    "scrolled": true
   },
   "outputs": [
    {
     "data": {
      "image/png": "[encoded data removed]",
      "text/plain": [
       "<Figure size 640x480 with 1 Axes>"
      ]
     },
     "metadata": {},
     "output_type": "display_data"
    }
   ],
   "source": [
    "thinkplot.Scatter(waistCircumference, bmi, color='blue', alpha=0.1, s=10)\n",
    "thinkplot.Plot(fit_xs, fit_ys, color='white', linewidth=3)\n",
    "thinkplot.Plot(fit_xs, fit_ys, color='red', linewidth=2)\n",
    "thinkplot.Config(xlabel='Waist Circumferences (inches)',\n",
    "                 ylabel='BMI',\n",
    "                 axis=[30, 60, 20, 50],\n",
    "                 legend=False)"
   ]
  },
  {
   "cell_type": "code",
   "execution_count": 81,
   "id": "d4b87d64-ca79-4b59-a85b-f5d0f3177403",
   "metadata": {},
   "outputs": [],
   "source": [
    "#### Explanatory variable"
   ]
  },
  {
   "cell_type": "code",
   "execution_count": null,
   "id": "49de581a-e615-4854-85a3-770e1d519ce4",
   "metadata": {},
   "outputs": [],
   "source": []
  }
 ],
 "metadata": {
  "kernelspec": {
   "display_name": "Python 3 (ipykernel)",
   "language": "python",
   "name": "python3"
  },
  "language_info": {
   "codemirror_mode": {
    "name": "ipython",
    "version": 3
   },
   "file_extension": ".py",
   "mimetype": "text/x-python",
   "name": "python",
   "nbconvert_exporter": "python",
   "pygments_lexer": "ipython3",
   "version": "3.12.4"
  }
 },
 "nbformat": 4,
 "nbformat_minor": 5
}
